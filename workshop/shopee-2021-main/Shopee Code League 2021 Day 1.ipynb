{
 "cells": [
  {
   "cell_type": "code",
   "execution_count": 2,
   "id": "aerial-piece",
   "metadata": {
    "ExecuteTime": {
     "end_time": "2021-02-23T09:51:28.685788Z",
     "start_time": "2021-02-23T09:51:08.796564Z"
    }
   },
   "outputs": [
    {
     "name": "stdout",
     "output_type": "stream",
     "text": [
      "Requirement already satisfied: spacy in /Users/albertyumol/opt/anaconda3/lib/python3.8/site-packages (3.0.3)\n",
      "Requirement already satisfied: jinja2 in /Users/albertyumol/opt/anaconda3/lib/python3.8/site-packages (from spacy) (2.11.2)\n",
      "Requirement already satisfied: packaging>=20.0 in /Users/albertyumol/opt/anaconda3/lib/python3.8/site-packages (from spacy) (20.8)\n",
      "Requirement already satisfied: typer<0.4.0,>=0.3.0 in /Users/albertyumol/opt/anaconda3/lib/python3.8/site-packages (from spacy) (0.3.2)\n",
      "Requirement already satisfied: blis<0.8.0,>=0.4.0 in /Users/albertyumol/opt/anaconda3/lib/python3.8/site-packages (from spacy) (0.7.4)\n",
      "Requirement already satisfied: tqdm<5.0.0,>=4.38.0 in /Users/albertyumol/opt/anaconda3/lib/python3.8/site-packages (from spacy) (4.55.1)\n",
      "Requirement already satisfied: srsly<3.0.0,>=2.4.0 in /Users/albertyumol/opt/anaconda3/lib/python3.8/site-packages (from spacy) (2.4.0)\n",
      "Requirement already satisfied: catalogue<2.1.0,>=2.0.1 in /Users/albertyumol/opt/anaconda3/lib/python3.8/site-packages (from spacy) (2.0.1)\n",
      "Requirement already satisfied: pathy in /Users/albertyumol/opt/anaconda3/lib/python3.8/site-packages (from spacy) (0.4.0)\n",
      "Requirement already satisfied: numpy>=1.15.0 in /Users/albertyumol/opt/anaconda3/lib/python3.8/site-packages (from spacy) (1.19.4)\n",
      "Requirement already satisfied: wasabi<1.1.0,>=0.8.1 in /Users/albertyumol/opt/anaconda3/lib/python3.8/site-packages (from spacy) (0.8.2)\n",
      "Requirement already satisfied: pydantic<1.8.0,>=1.7.1 in /Users/albertyumol/opt/anaconda3/lib/python3.8/site-packages (from spacy) (1.7.3)\n",
      "Requirement already satisfied: requests<3.0.0,>=2.13.0 in /Users/albertyumol/opt/anaconda3/lib/python3.8/site-packages (from spacy) (2.25.1)\n",
      "Requirement already satisfied: spacy-legacy<3.1.0,>=3.0.0 in /Users/albertyumol/opt/anaconda3/lib/python3.8/site-packages (from spacy) (3.0.1)\n",
      "Requirement already satisfied: murmurhash<1.1.0,>=0.28.0 in /Users/albertyumol/opt/anaconda3/lib/python3.8/site-packages (from spacy) (1.0.5)\n",
      "Requirement already satisfied: thinc<8.1.0,>=8.0.0 in /Users/albertyumol/opt/anaconda3/lib/python3.8/site-packages (from spacy) (8.0.1)\n",
      "Requirement already satisfied: setuptools in /Users/albertyumol/opt/anaconda3/lib/python3.8/site-packages (from spacy) (51.3.3.post20210118)\n",
      "Requirement already satisfied: cymem<2.1.0,>=2.0.2 in /Users/albertyumol/opt/anaconda3/lib/python3.8/site-packages (from spacy) (2.0.5)\n",
      "Requirement already satisfied: preshed<3.1.0,>=3.0.2 in /Users/albertyumol/opt/anaconda3/lib/python3.8/site-packages (from spacy) (3.0.5)\n",
      "Requirement already satisfied: MarkupSafe>=0.23 in /Users/albertyumol/opt/anaconda3/lib/python3.8/site-packages (from jinja2->spacy) (1.1.1)\n",
      "Requirement already satisfied: pyparsing>=2.0.2 in /Users/albertyumol/opt/anaconda3/lib/python3.8/site-packages (from packaging>=20.0->spacy) (2.4.7)\n",
      "Requirement already satisfied: click<7.2.0,>=7.1.1 in /Users/albertyumol/opt/anaconda3/lib/python3.8/site-packages (from typer<0.4.0,>=0.3.0->spacy) (7.1.2)\n",
      "Requirement already satisfied: smart-open<4.0.0,>=2.2.0 in /Users/albertyumol/opt/anaconda3/lib/python3.8/site-packages (from pathy->spacy) (3.0.0)\n",
      "Requirement already satisfied: chardet<5,>=3.0.2 in /Users/albertyumol/opt/anaconda3/lib/python3.8/site-packages (from requests<3.0.0,>=2.13.0->spacy) (4.0.0)\n",
      "Requirement already satisfied: idna<3,>=2.5 in /Users/albertyumol/opt/anaconda3/lib/python3.8/site-packages (from requests<3.0.0,>=2.13.0->spacy) (2.10)\n",
      "Requirement already satisfied: certifi>=2017.4.17 in /Users/albertyumol/opt/anaconda3/lib/python3.8/site-packages (from requests<3.0.0,>=2.13.0->spacy) (2020.12.5)\n",
      "Requirement already satisfied: urllib3<1.27,>=1.21.1 in /Users/albertyumol/opt/anaconda3/lib/python3.8/site-packages (from requests<3.0.0,>=2.13.0->spacy) (1.26.2)\n",
      "Requirement already satisfied: en-core-web-sm==3.0.0 from https://github.com/explosion/spacy-models/releases/download/en_core_web_sm-3.0.0/en_core_web_sm-3.0.0-py3-none-any.whl#egg=en_core_web_sm==3.0.0 in /Users/albertyumol/opt/anaconda3/lib/python3.8/site-packages (3.0.0)\n",
      "Requirement already satisfied: spacy<3.1.0,>=3.0.0 in /Users/albertyumol/opt/anaconda3/lib/python3.8/site-packages (from en-core-web-sm==3.0.0) (3.0.3)\n",
      "Requirement already satisfied: thinc<8.1.0,>=8.0.0 in /Users/albertyumol/opt/anaconda3/lib/python3.8/site-packages (from spacy<3.1.0,>=3.0.0->en-core-web-sm==3.0.0) (8.0.1)\n",
      "Requirement already satisfied: jinja2 in /Users/albertyumol/opt/anaconda3/lib/python3.8/site-packages (from spacy<3.1.0,>=3.0.0->en-core-web-sm==3.0.0) (2.11.2)\n",
      "Requirement already satisfied: catalogue<2.1.0,>=2.0.1 in /Users/albertyumol/opt/anaconda3/lib/python3.8/site-packages (from spacy<3.1.0,>=3.0.0->en-core-web-sm==3.0.0) (2.0.1)\n",
      "Requirement already satisfied: pydantic<1.8.0,>=1.7.1 in /Users/albertyumol/opt/anaconda3/lib/python3.8/site-packages (from spacy<3.1.0,>=3.0.0->en-core-web-sm==3.0.0) (1.7.3)\n",
      "Requirement already satisfied: srsly<3.0.0,>=2.4.0 in /Users/albertyumol/opt/anaconda3/lib/python3.8/site-packages (from spacy<3.1.0,>=3.0.0->en-core-web-sm==3.0.0) (2.4.0)\n",
      "Requirement already satisfied: cymem<2.1.0,>=2.0.2 in /Users/albertyumol/opt/anaconda3/lib/python3.8/site-packages (from spacy<3.1.0,>=3.0.0->en-core-web-sm==3.0.0) (2.0.5)\n",
      "Requirement already satisfied: tqdm<5.0.0,>=4.38.0 in /Users/albertyumol/opt/anaconda3/lib/python3.8/site-packages (from spacy<3.1.0,>=3.0.0->en-core-web-sm==3.0.0) (4.55.1)\n",
      "Requirement already satisfied: spacy-legacy<3.1.0,>=3.0.0 in /Users/albertyumol/opt/anaconda3/lib/python3.8/site-packages (from spacy<3.1.0,>=3.0.0->en-core-web-sm==3.0.0) (3.0.1)\n",
      "Requirement already satisfied: murmurhash<1.1.0,>=0.28.0 in /Users/albertyumol/opt/anaconda3/lib/python3.8/site-packages (from spacy<3.1.0,>=3.0.0->en-core-web-sm==3.0.0) (1.0.5)\n",
      "Requirement already satisfied: wasabi<1.1.0,>=0.8.1 in /Users/albertyumol/opt/anaconda3/lib/python3.8/site-packages (from spacy<3.1.0,>=3.0.0->en-core-web-sm==3.0.0) (0.8.2)\n",
      "Requirement already satisfied: preshed<3.1.0,>=3.0.2 in /Users/albertyumol/opt/anaconda3/lib/python3.8/site-packages (from spacy<3.1.0,>=3.0.0->en-core-web-sm==3.0.0) (3.0.5)\n",
      "Requirement already satisfied: blis<0.8.0,>=0.4.0 in /Users/albertyumol/opt/anaconda3/lib/python3.8/site-packages (from spacy<3.1.0,>=3.0.0->en-core-web-sm==3.0.0) (0.7.4)\n",
      "Requirement already satisfied: numpy>=1.15.0 in /Users/albertyumol/opt/anaconda3/lib/python3.8/site-packages (from spacy<3.1.0,>=3.0.0->en-core-web-sm==3.0.0) (1.19.4)\n",
      "Requirement already satisfied: requests<3.0.0,>=2.13.0 in /Users/albertyumol/opt/anaconda3/lib/python3.8/site-packages (from spacy<3.1.0,>=3.0.0->en-core-web-sm==3.0.0) (2.25.1)\n",
      "Requirement already satisfied: pathy in /Users/albertyumol/opt/anaconda3/lib/python3.8/site-packages (from spacy<3.1.0,>=3.0.0->en-core-web-sm==3.0.0) (0.4.0)\n",
      "Requirement already satisfied: setuptools in /Users/albertyumol/opt/anaconda3/lib/python3.8/site-packages (from spacy<3.1.0,>=3.0.0->en-core-web-sm==3.0.0) (51.3.3.post20210118)\n",
      "Requirement already satisfied: packaging>=20.0 in /Users/albertyumol/opt/anaconda3/lib/python3.8/site-packages (from spacy<3.1.0,>=3.0.0->en-core-web-sm==3.0.0) (20.8)\n",
      "Requirement already satisfied: typer<0.4.0,>=0.3.0 in /Users/albertyumol/opt/anaconda3/lib/python3.8/site-packages (from spacy<3.1.0,>=3.0.0->en-core-web-sm==3.0.0) (0.3.2)\n",
      "Requirement already satisfied: MarkupSafe>=0.23 in /Users/albertyumol/opt/anaconda3/lib/python3.8/site-packages (from jinja2->spacy<3.1.0,>=3.0.0->en-core-web-sm==3.0.0) (1.1.1)\n",
      "Requirement already satisfied: certifi>=2017.4.17 in /Users/albertyumol/opt/anaconda3/lib/python3.8/site-packages (from requests<3.0.0,>=2.13.0->spacy<3.1.0,>=3.0.0->en-core-web-sm==3.0.0) (2020.12.5)\n",
      "Requirement already satisfied: idna<3,>=2.5 in /Users/albertyumol/opt/anaconda3/lib/python3.8/site-packages (from requests<3.0.0,>=2.13.0->spacy<3.1.0,>=3.0.0->en-core-web-sm==3.0.0) (2.10)\n",
      "Requirement already satisfied: urllib3<1.27,>=1.21.1 in /Users/albertyumol/opt/anaconda3/lib/python3.8/site-packages (from requests<3.0.0,>=2.13.0->spacy<3.1.0,>=3.0.0->en-core-web-sm==3.0.0) (1.26.2)\n",
      "Requirement already satisfied: chardet<5,>=3.0.2 in /Users/albertyumol/opt/anaconda3/lib/python3.8/site-packages (from requests<3.0.0,>=2.13.0->spacy<3.1.0,>=3.0.0->en-core-web-sm==3.0.0) (4.0.0)\n",
      "Requirement already satisfied: smart-open<4.0.0,>=2.2.0 in /Users/albertyumol/opt/anaconda3/lib/python3.8/site-packages (from pathy->spacy<3.1.0,>=3.0.0->en-core-web-sm==3.0.0) (3.0.0)\n"
     ]
    },
    {
     "name": "stdout",
     "output_type": "stream",
     "text": [
      "Requirement already satisfied: pyparsing>=2.0.2 in /Users/albertyumol/opt/anaconda3/lib/python3.8/site-packages (from packaging>=20.0->spacy<3.1.0,>=3.0.0->en-core-web-sm==3.0.0) (2.4.7)\n",
      "Requirement already satisfied: click<7.2.0,>=7.1.1 in /Users/albertyumol/opt/anaconda3/lib/python3.8/site-packages (from typer<0.4.0,>=0.3.0->spacy<3.1.0,>=3.0.0->en-core-web-sm==3.0.0) (7.1.2)\n",
      "\u001b[38;5;2m✔ Download and installation successful\u001b[0m\n",
      "You can now load the package via spacy.load('en_core_web_sm')\n",
      "Requirement already satisfied: en-core-web-lg==3.0.0 from https://github.com/explosion/spacy-models/releases/download/en_core_web_lg-3.0.0/en_core_web_lg-3.0.0-py3-none-any.whl#egg=en_core_web_lg==3.0.0 in /Users/albertyumol/opt/anaconda3/lib/python3.8/site-packages (3.0.0)\n",
      "Requirement already satisfied: spacy<3.1.0,>=3.0.0 in /Users/albertyumol/opt/anaconda3/lib/python3.8/site-packages (from en-core-web-lg==3.0.0) (3.0.3)\n",
      "Requirement already satisfied: srsly<3.0.0,>=2.4.0 in /Users/albertyumol/opt/anaconda3/lib/python3.8/site-packages (from spacy<3.1.0,>=3.0.0->en-core-web-lg==3.0.0) (2.4.0)\n",
      "Requirement already satisfied: preshed<3.1.0,>=3.0.2 in /Users/albertyumol/opt/anaconda3/lib/python3.8/site-packages (from spacy<3.1.0,>=3.0.0->en-core-web-lg==3.0.0) (3.0.5)\n",
      "Requirement already satisfied: typer<0.4.0,>=0.3.0 in /Users/albertyumol/opt/anaconda3/lib/python3.8/site-packages (from spacy<3.1.0,>=3.0.0->en-core-web-lg==3.0.0) (0.3.2)\n",
      "Requirement already satisfied: pydantic<1.8.0,>=1.7.1 in /Users/albertyumol/opt/anaconda3/lib/python3.8/site-packages (from spacy<3.1.0,>=3.0.0->en-core-web-lg==3.0.0) (1.7.3)\n",
      "Requirement already satisfied: wasabi<1.1.0,>=0.8.1 in /Users/albertyumol/opt/anaconda3/lib/python3.8/site-packages (from spacy<3.1.0,>=3.0.0->en-core-web-lg==3.0.0) (0.8.2)\n",
      "Requirement already satisfied: catalogue<2.1.0,>=2.0.1 in /Users/albertyumol/opt/anaconda3/lib/python3.8/site-packages (from spacy<3.1.0,>=3.0.0->en-core-web-lg==3.0.0) (2.0.1)\n",
      "Requirement already satisfied: pathy in /Users/albertyumol/opt/anaconda3/lib/python3.8/site-packages (from spacy<3.1.0,>=3.0.0->en-core-web-lg==3.0.0) (0.4.0)\n",
      "Requirement already satisfied: jinja2 in /Users/albertyumol/opt/anaconda3/lib/python3.8/site-packages (from spacy<3.1.0,>=3.0.0->en-core-web-lg==3.0.0) (2.11.2)\n",
      "Requirement already satisfied: tqdm<5.0.0,>=4.38.0 in /Users/albertyumol/opt/anaconda3/lib/python3.8/site-packages (from spacy<3.1.0,>=3.0.0->en-core-web-lg==3.0.0) (4.55.1)\n",
      "Requirement already satisfied: packaging>=20.0 in /Users/albertyumol/opt/anaconda3/lib/python3.8/site-packages (from spacy<3.1.0,>=3.0.0->en-core-web-lg==3.0.0) (20.8)\n",
      "Requirement already satisfied: numpy>=1.15.0 in /Users/albertyumol/opt/anaconda3/lib/python3.8/site-packages (from spacy<3.1.0,>=3.0.0->en-core-web-lg==3.0.0) (1.19.4)\n",
      "Requirement already satisfied: setuptools in /Users/albertyumol/opt/anaconda3/lib/python3.8/site-packages (from spacy<3.1.0,>=3.0.0->en-core-web-lg==3.0.0) (51.3.3.post20210118)\n",
      "Requirement already satisfied: requests<3.0.0,>=2.13.0 in /Users/albertyumol/opt/anaconda3/lib/python3.8/site-packages (from spacy<3.1.0,>=3.0.0->en-core-web-lg==3.0.0) (2.25.1)\n",
      "Requirement already satisfied: cymem<2.1.0,>=2.0.2 in /Users/albertyumol/opt/anaconda3/lib/python3.8/site-packages (from spacy<3.1.0,>=3.0.0->en-core-web-lg==3.0.0) (2.0.5)\n",
      "Requirement already satisfied: spacy-legacy<3.1.0,>=3.0.0 in /Users/albertyumol/opt/anaconda3/lib/python3.8/site-packages (from spacy<3.1.0,>=3.0.0->en-core-web-lg==3.0.0) (3.0.1)\n",
      "Requirement already satisfied: blis<0.8.0,>=0.4.0 in /Users/albertyumol/opt/anaconda3/lib/python3.8/site-packages (from spacy<3.1.0,>=3.0.0->en-core-web-lg==3.0.0) (0.7.4)\n",
      "Requirement already satisfied: thinc<8.1.0,>=8.0.0 in /Users/albertyumol/opt/anaconda3/lib/python3.8/site-packages (from spacy<3.1.0,>=3.0.0->en-core-web-lg==3.0.0) (8.0.1)\n",
      "Requirement already satisfied: murmurhash<1.1.0,>=0.28.0 in /Users/albertyumol/opt/anaconda3/lib/python3.8/site-packages (from spacy<3.1.0,>=3.0.0->en-core-web-lg==3.0.0) (1.0.5)\n",
      "Requirement already satisfied: click<7.2.0,>=7.1.1 in /Users/albertyumol/opt/anaconda3/lib/python3.8/site-packages (from typer<0.4.0,>=0.3.0->spacy<3.1.0,>=3.0.0->en-core-web-lg==3.0.0) (7.1.2)\n",
      "Requirement already satisfied: smart-open<4.0.0,>=2.2.0 in /Users/albertyumol/opt/anaconda3/lib/python3.8/site-packages (from pathy->spacy<3.1.0,>=3.0.0->en-core-web-lg==3.0.0) (3.0.0)\n",
      "Requirement already satisfied: MarkupSafe>=0.23 in /Users/albertyumol/opt/anaconda3/lib/python3.8/site-packages (from jinja2->spacy<3.1.0,>=3.0.0->en-core-web-lg==3.0.0) (1.1.1)\n",
      "Requirement already satisfied: pyparsing>=2.0.2 in /Users/albertyumol/opt/anaconda3/lib/python3.8/site-packages (from packaging>=20.0->spacy<3.1.0,>=3.0.0->en-core-web-lg==3.0.0) (2.4.7)\n",
      "Requirement already satisfied: idna<3,>=2.5 in /Users/albertyumol/opt/anaconda3/lib/python3.8/site-packages (from requests<3.0.0,>=2.13.0->spacy<3.1.0,>=3.0.0->en-core-web-lg==3.0.0) (2.10)\n",
      "Requirement already satisfied: urllib3<1.27,>=1.21.1 in /Users/albertyumol/opt/anaconda3/lib/python3.8/site-packages (from requests<3.0.0,>=2.13.0->spacy<3.1.0,>=3.0.0->en-core-web-lg==3.0.0) (1.26.2)\n",
      "Requirement already satisfied: certifi>=2017.4.17 in /Users/albertyumol/opt/anaconda3/lib/python3.8/site-packages (from requests<3.0.0,>=2.13.0->spacy<3.1.0,>=3.0.0->en-core-web-lg==3.0.0) (2020.12.5)\n",
      "Requirement already satisfied: chardet<5,>=3.0.2 in /Users/albertyumol/opt/anaconda3/lib/python3.8/site-packages (from requests<3.0.0,>=2.13.0->spacy<3.1.0,>=3.0.0->en-core-web-lg==3.0.0) (4.0.0)\n",
      "\u001b[38;5;2m✔ Download and installation successful\u001b[0m\n",
      "You can now load the package via spacy.load('en_core_web_lg')\n"
     ]
    }
   ],
   "source": [
    "!pip install spacy\n",
    "!python -m spacy download en_core_web_sm\n",
    "# !python -m spacy download en_core_web_lg"
   ]
  },
  {
   "cell_type": "code",
   "execution_count": 3,
   "id": "latest-closer",
   "metadata": {
    "ExecuteTime": {
     "end_time": "2021-02-23T09:53:48.474337Z",
     "start_time": "2021-02-23T09:53:40.779797Z"
    }
   },
   "outputs": [],
   "source": [
    "# imports\n",
    "\n",
    "import spacy\n",
    "#nlp = spacy.load('en_core_web_sm') #not so fast internet\n",
    "nlp = spacy.load('en_core_web_lg') #very fast internet"
   ]
  },
  {
   "cell_type": "code",
   "execution_count": 4,
   "id": "august-nirvana",
   "metadata": {
    "ExecuteTime": {
     "end_time": "2021-02-23T09:55:52.598834Z",
     "start_time": "2021-02-23T09:55:52.553985Z"
    }
   },
   "outputs": [
    {
     "name": "stdout",
     "output_type": "stream",
     "text": [
      "['I', 'am', 'flying', 'to', 'Manila', '.']\n"
     ]
    }
   ],
   "source": [
    "# tokenization\n",
    "\n",
    "doc = nlp('I am flying to Manila.')\n",
    "print([w.text for w in doc])"
   ]
  },
  {
   "cell_type": "code",
   "execution_count": 5,
   "id": "united-checklist",
   "metadata": {
    "ExecuteTime": {
     "end_time": "2021-02-23T09:59:22.419258Z",
     "start_time": "2021-02-23T09:59:22.400329Z"
    }
   },
   "outputs": [
    {
     "name": "stdout",
     "output_type": "stream",
     "text": [
      "this this\n",
      "product product\n",
      "integrates integrate\n",
      "both both\n",
      "libraries library\n",
      "for for\n",
      "downloading download\n",
      "and and\n",
      "applying apply\n",
      "patches patch\n"
     ]
    }
   ],
   "source": [
    "# lemmatization\n",
    "\n",
    "doc = nlp('this product integrates both libraries for downloading and applying patches')\n",
    "for token in doc:\n",
    "    print(token.text, token.lemma_)"
   ]
  },
  {
   "cell_type": "code",
   "execution_count": 6,
   "id": "cordless-drill",
   "metadata": {
    "ExecuteTime": {
     "end_time": "2021-02-23T10:02:15.093928Z",
     "start_time": "2021-02-23T10:02:15.072331Z"
    }
   },
   "outputs": [
    {
     "name": "stdout",
     "output_type": "stream",
     "text": [
      "I PRON PRP\n",
      "have AUX VBP\n",
      "flown VERB VBN\n",
      "to ADP IN\n",
      "Singapore PROPN NNP\n",
      ". PUNCT .\n",
      "I PRON PRP\n",
      "am AUX VBP\n",
      "flying VERB VBG\n",
      "to ADP IN\n",
      "Manila PROPN NNP\n",
      ". PUNCT .\n"
     ]
    }
   ],
   "source": [
    "# part of speech tagging\n",
    "\n",
    "doc = nlp('I have flown to Singapore. I am flying to Manila.')\n",
    "for token in doc:\n",
    "    print(token.text, token.pos_, token.tag_)"
   ]
  },
  {
   "cell_type": "code",
   "execution_count": 7,
   "id": "vertical-legend",
   "metadata": {
    "ExecuteTime": {
     "end_time": "2021-02-23T10:03:27.169216Z",
     "start_time": "2021-02-23T10:03:27.157102Z"
    }
   },
   "outputs": [
    {
     "data": {
      "text/plain": [
       "'auxiliary'"
      ]
     },
     "execution_count": 7,
     "metadata": {},
     "output_type": "execute_result"
    }
   ],
   "source": [
    "spacy.explain('AUX')"
   ]
  },
  {
   "cell_type": "code",
   "execution_count": 12,
   "id": "revolutionary-tiffany",
   "metadata": {
    "ExecuteTime": {
     "end_time": "2021-02-23T10:07:28.701942Z",
     "start_time": "2021-02-23T10:07:28.698439Z"
    }
   },
   "outputs": [
    {
     "data": {
      "text/plain": [
       "'verb, base form'"
      ]
     },
     "execution_count": 12,
     "metadata": {},
     "output_type": "execute_result"
    }
   ],
   "source": [
    "spacy.explain('VB')"
   ]
  },
  {
   "cell_type": "code",
   "execution_count": 10,
   "id": "electoral-girlfriend",
   "metadata": {
    "ExecuteTime": {
     "end_time": "2021-02-23T10:05:36.562724Z",
     "start_time": "2021-02-23T10:05:36.559539Z"
    }
   },
   "outputs": [
    {
     "data": {
      "text/plain": [
       "I have flown to Singapore. I am flying to Manila."
      ]
     },
     "execution_count": 10,
     "metadata": {},
     "output_type": "execute_result"
    }
   ],
   "source": [
    "doc"
   ]
  },
  {
   "cell_type": "code",
   "execution_count": 11,
   "id": "toxic-vegetation",
   "metadata": {
    "ExecuteTime": {
     "end_time": "2021-02-23T10:06:03.840508Z",
     "start_time": "2021-02-23T10:06:03.835631Z"
    }
   },
   "outputs": [
    {
     "name": "stdout",
     "output_type": "stream",
     "text": [
      "I I\n",
      "have have\n",
      "flown fly\n",
      "to to\n",
      "Singapore Singapore\n",
      ". .\n",
      "I I\n",
      "am be\n",
      "flying fly\n",
      "to to\n",
      "Manila Manila\n",
      ". .\n"
     ]
    }
   ],
   "source": [
    "for token in doc:\n",
    "    print(token.text, token.lemma_)"
   ]
  },
  {
   "cell_type": "code",
   "execution_count": 13,
   "id": "threatened-azerbaijan",
   "metadata": {
    "ExecuteTime": {
     "end_time": "2021-02-23T10:07:51.953290Z",
     "start_time": "2021-02-23T10:07:51.949214Z"
    }
   },
   "outputs": [
    {
     "name": "stdout",
     "output_type": "stream",
     "text": [
      "['flying']\n"
     ]
    }
   ],
   "source": [
    "print([w.text for w in doc if w.tag_=='VBG' or w.tag_=='VB'])"
   ]
  },
  {
   "cell_type": "code",
   "execution_count": 14,
   "id": "occupied-killing",
   "metadata": {
    "ExecuteTime": {
     "end_time": "2021-02-23T10:09:04.221476Z",
     "start_time": "2021-02-23T10:09:04.218756Z"
    }
   },
   "outputs": [
    {
     "data": {
      "text/plain": [
       "I have flown to Singapore. I am flying to Manila."
      ]
     },
     "execution_count": 14,
     "metadata": {},
     "output_type": "execute_result"
    }
   ],
   "source": [
    "doc"
   ]
  },
  {
   "cell_type": "code",
   "execution_count": 15,
   "id": "synthetic-three",
   "metadata": {
    "ExecuteTime": {
     "end_time": "2021-02-23T10:09:54.390846Z",
     "start_time": "2021-02-23T10:09:54.383796Z"
    }
   },
   "outputs": [
    {
     "name": "stdout",
     "output_type": "stream",
     "text": [
      "[I, have, flown, to, Singapore, .]\n",
      "[I, am, flying, to, Manila, .]\n"
     ]
    }
   ],
   "source": [
    "for sent in doc.sents:\n",
    "    print([sent[i] for i in range(len(sent))])"
   ]
  },
  {
   "cell_type": "code",
   "execution_count": 16,
   "id": "nonprofit-baseball",
   "metadata": {
    "ExecuteTime": {
     "end_time": "2021-02-23T10:11:26.676420Z",
     "start_time": "2021-02-23T10:11:26.660355Z"
    }
   },
   "outputs": [
    {
     "name": "stdout",
     "output_type": "stream",
     "text": [
      "['The', 'Golden', 'Gate', 'Bridge', 'is', 'an', 'iconic', 'landmark', 'in', 'San', 'Francisco', '.']\n"
     ]
    }
   ],
   "source": [
    "doc = nlp('The Golden Gate Bridge is an iconic landmark in San Francisco.')\n",
    "print([w.text for w in doc])"
   ]
  },
  {
   "cell_type": "code",
   "execution_count": 17,
   "id": "extreme-organization",
   "metadata": {
    "ExecuteTime": {
     "end_time": "2021-02-23T10:15:38.597343Z",
     "start_time": "2021-02-23T10:15:36.712330Z"
    }
   },
   "outputs": [
    {
     "name": "stdout",
     "output_type": "stream",
     "text": [
      "The the DET\n",
      "Golden Gate Bridge Golden Gate Bridge PROPN\n",
      "is be AUX\n",
      "an an DET\n",
      "iconic iconic ADJ\n",
      "landmark landmark NOUN\n",
      "in in ADP\n",
      "San Francisco San Francisco PROPN\n",
      ". . PUNCT\n"
     ]
    }
   ],
   "source": [
    "with doc.retokenize() as retokenizer:\n",
    "    retokenizer.merge(doc[1:4])\n",
    "with doc.retokenize() as retokenizer:\n",
    "    retokenizer.merge(doc[7:9])\n",
    "for token in doc:\n",
    "    print(token.text, token.lemma_, token.pos_)"
   ]
  },
  {
   "cell_type": "code",
   "execution_count": 18,
   "id": "attractive-position",
   "metadata": {
    "ExecuteTime": {
     "end_time": "2021-02-23T10:18:38.224911Z",
     "start_time": "2021-02-23T10:18:38.205294Z"
    }
   },
   "outputs": [
    {
     "name": "stdout",
     "output_type": "stream",
     "text": [
      "I PRON nsubj nominal subject\n",
      "want VERB ROOT None\n",
      "a DET det determiner\n",
      "green ADJ amod adjectival modifier\n",
      "apple NOUN dobj direct object\n",
      ". PUNCT punct punctuation\n"
     ]
    }
   ],
   "source": [
    "# dependency parsing\n",
    "\n",
    "doc = nlp('I want a green apple.')\n",
    "for token in doc:\n",
    "    print(token.text, token.pos_, token.dep_, spacy.explain(token.dep_))"
   ]
  },
  {
   "cell_type": "code",
   "execution_count": 19,
   "id": "adapted-transaction",
   "metadata": {
    "ExecuteTime": {
     "end_time": "2021-02-23T10:21:55.178729Z",
     "start_time": "2021-02-23T10:20:48.441487Z"
    }
   },
   "outputs": [
    {
     "name": "stderr",
     "output_type": "stream",
     "text": [
      "/Users/albertyumol/opt/anaconda3/lib/python3.8/site-packages/spacy/displacy/__init__.py:97: UserWarning: [W011] It looks like you're calling displacy.serve from within a Jupyter notebook or a similar environment. This likely means you're already running a local web server, so there's no need to make displaCy start another one. Instead, you should be able to replace displacy.serve with displacy.render to show the visualization.\n",
      "  warnings.warn(Warnings.W011)\n"
     ]
    },
    {
     "data": {
      "text/html": [
       "<span class=\"tex2jax_ignore\"><!DOCTYPE html>\n",
       "<html lang=\"en\">\n",
       "    <head>\n",
       "        <title>displaCy</title>\n",
       "    </head>\n",
       "\n",
       "    <body style=\"font-size: 16px; font-family: -apple-system, BlinkMacSystemFont, 'Segoe UI', Helvetica, Arial, sans-serif, 'Apple Color Emoji', 'Segoe UI Emoji', 'Segoe UI Symbol'; padding: 4rem 2rem; direction: ltr\">\n",
       "<figure style=\"margin-bottom: 6rem\">\n",
       "<svg xmlns=\"http://www.w3.org/2000/svg\" xmlns:xlink=\"http://www.w3.org/1999/xlink\" xml:lang=\"en\" id=\"45dd4d518456415cadb8a77dabc1f5c1-0\" class=\"displacy\" width=\"925\" height=\"399.5\" direction=\"ltr\" style=\"max-width: none; height: 399.5px; color: #000000; background: #ffffff; font-family: Arial; direction: ltr\">\n",
       "<text class=\"displacy-token\" fill=\"currentColor\" text-anchor=\"middle\" y=\"309.5\">\n",
       "    <tspan class=\"displacy-word\" fill=\"currentColor\" x=\"50\">I</tspan>\n",
       "    <tspan class=\"displacy-tag\" dy=\"2em\" fill=\"currentColor\" x=\"50\">PRON</tspan>\n",
       "</text>\n",
       "\n",
       "<text class=\"displacy-token\" fill=\"currentColor\" text-anchor=\"middle\" y=\"309.5\">\n",
       "    <tspan class=\"displacy-word\" fill=\"currentColor\" x=\"225\">want</tspan>\n",
       "    <tspan class=\"displacy-tag\" dy=\"2em\" fill=\"currentColor\" x=\"225\">VERB</tspan>\n",
       "</text>\n",
       "\n",
       "<text class=\"displacy-token\" fill=\"currentColor\" text-anchor=\"middle\" y=\"309.5\">\n",
       "    <tspan class=\"displacy-word\" fill=\"currentColor\" x=\"400\">a</tspan>\n",
       "    <tspan class=\"displacy-tag\" dy=\"2em\" fill=\"currentColor\" x=\"400\">DET</tspan>\n",
       "</text>\n",
       "\n",
       "<text class=\"displacy-token\" fill=\"currentColor\" text-anchor=\"middle\" y=\"309.5\">\n",
       "    <tspan class=\"displacy-word\" fill=\"currentColor\" x=\"575\">green</tspan>\n",
       "    <tspan class=\"displacy-tag\" dy=\"2em\" fill=\"currentColor\" x=\"575\">ADJ</tspan>\n",
       "</text>\n",
       "\n",
       "<text class=\"displacy-token\" fill=\"currentColor\" text-anchor=\"middle\" y=\"309.5\">\n",
       "    <tspan class=\"displacy-word\" fill=\"currentColor\" x=\"750\">apple.</tspan>\n",
       "    <tspan class=\"displacy-tag\" dy=\"2em\" fill=\"currentColor\" x=\"750\">NOUN</tspan>\n",
       "</text>\n",
       "\n",
       "<g class=\"displacy-arrow\">\n",
       "    <path class=\"displacy-arc\" id=\"arrow-45dd4d518456415cadb8a77dabc1f5c1-0-0\" stroke-width=\"2px\" d=\"M70,264.5 C70,177.0 215.0,177.0 215.0,264.5\" fill=\"none\" stroke=\"currentColor\"/>\n",
       "    <text dy=\"1.25em\" style=\"font-size: 0.8em; letter-spacing: 1px\">\n",
       "        <textPath xlink:href=\"#arrow-45dd4d518456415cadb8a77dabc1f5c1-0-0\" class=\"displacy-label\" startOffset=\"50%\" side=\"left\" fill=\"currentColor\" text-anchor=\"middle\">nsubj</textPath>\n",
       "    </text>\n",
       "    <path class=\"displacy-arrowhead\" d=\"M70,266.5 L62,254.5 78,254.5\" fill=\"currentColor\"/>\n",
       "</g>\n",
       "\n",
       "<g class=\"displacy-arrow\">\n",
       "    <path class=\"displacy-arc\" id=\"arrow-45dd4d518456415cadb8a77dabc1f5c1-0-1\" stroke-width=\"2px\" d=\"M420,264.5 C420,89.5 745.0,89.5 745.0,264.5\" fill=\"none\" stroke=\"currentColor\"/>\n",
       "    <text dy=\"1.25em\" style=\"font-size: 0.8em; letter-spacing: 1px\">\n",
       "        <textPath xlink:href=\"#arrow-45dd4d518456415cadb8a77dabc1f5c1-0-1\" class=\"displacy-label\" startOffset=\"50%\" side=\"left\" fill=\"currentColor\" text-anchor=\"middle\">det</textPath>\n",
       "    </text>\n",
       "    <path class=\"displacy-arrowhead\" d=\"M420,266.5 L412,254.5 428,254.5\" fill=\"currentColor\"/>\n",
       "</g>\n",
       "\n",
       "<g class=\"displacy-arrow\">\n",
       "    <path class=\"displacy-arc\" id=\"arrow-45dd4d518456415cadb8a77dabc1f5c1-0-2\" stroke-width=\"2px\" d=\"M595,264.5 C595,177.0 740.0,177.0 740.0,264.5\" fill=\"none\" stroke=\"currentColor\"/>\n",
       "    <text dy=\"1.25em\" style=\"font-size: 0.8em; letter-spacing: 1px\">\n",
       "        <textPath xlink:href=\"#arrow-45dd4d518456415cadb8a77dabc1f5c1-0-2\" class=\"displacy-label\" startOffset=\"50%\" side=\"left\" fill=\"currentColor\" text-anchor=\"middle\">amod</textPath>\n",
       "    </text>\n",
       "    <path class=\"displacy-arrowhead\" d=\"M595,266.5 L587,254.5 603,254.5\" fill=\"currentColor\"/>\n",
       "</g>\n",
       "\n",
       "<g class=\"displacy-arrow\">\n",
       "    <path class=\"displacy-arc\" id=\"arrow-45dd4d518456415cadb8a77dabc1f5c1-0-3\" stroke-width=\"2px\" d=\"M245,264.5 C245,2.0 750.0,2.0 750.0,264.5\" fill=\"none\" stroke=\"currentColor\"/>\n",
       "    <text dy=\"1.25em\" style=\"font-size: 0.8em; letter-spacing: 1px\">\n",
       "        <textPath xlink:href=\"#arrow-45dd4d518456415cadb8a77dabc1f5c1-0-3\" class=\"displacy-label\" startOffset=\"50%\" side=\"left\" fill=\"currentColor\" text-anchor=\"middle\">dobj</textPath>\n",
       "    </text>\n",
       "    <path class=\"displacy-arrowhead\" d=\"M750.0,266.5 L758.0,254.5 742.0,254.5\" fill=\"currentColor\"/>\n",
       "</g>\n",
       "</svg>\n",
       "</figure>\n",
       "</body>\n",
       "</html></span>"
      ],
      "text/plain": [
       "<IPython.core.display.HTML object>"
      ]
     },
     "metadata": {},
     "output_type": "display_data"
    },
    {
     "name": "stdout",
     "output_type": "stream",
     "text": [
      "\n",
      "Using the 'dep' visualizer\n",
      "Serving on http://0.0.0.0:5000 ...\n",
      "\n",
      "Shutting down server on port 5000.\n"
     ]
    }
   ],
   "source": [
    "from spacy import displacy\n",
    "displacy.serve(doc, style='dep')"
   ]
  },
  {
   "cell_type": "code",
   "execution_count": 21,
   "id": "martial-stations",
   "metadata": {
    "ExecuteTime": {
     "end_time": "2021-02-23T10:28:37.017501Z",
     "start_time": "2021-02-23T10:28:36.975775Z"
    }
   },
   "outputs": [
    {
     "name": "stdout",
     "output_type": "stream",
     "text": [
      "$1.5 million\n"
     ]
    }
   ],
   "source": [
    "# entity recognition\n",
    "\n",
    "doc = nlp('The firm earned $1.5 million in 2017.')\n",
    "phrase = ''\n",
    "for token in doc:\n",
    "    if token.tag_ == '$':\n",
    "        phrase = token.text\n",
    "        i = token.i+1\n",
    "        while doc[i].tag_ == 'CD':\n",
    "            phrase += doc[i].text + ' '\n",
    "            i += 1\n",
    "        phrase = phrase[:-1]\n",
    "        print(phrase)"
   ]
  },
  {
   "cell_type": "code",
   "execution_count": 20,
   "id": "copyrighted-geography",
   "metadata": {
    "ExecuteTime": {
     "end_time": "2021-02-23T10:25:55.657164Z",
     "start_time": "2021-02-23T10:25:55.653679Z"
    }
   },
   "outputs": [
    {
     "data": {
      "text/plain": [
       "'cardinal number'"
      ]
     },
     "execution_count": 20,
     "metadata": {},
     "output_type": "execute_result"
    }
   ],
   "source": [
    "spacy.explain('CD')"
   ]
  },
  {
   "cell_type": "code",
   "execution_count": 22,
   "id": "intimate-donna",
   "metadata": {
    "ExecuteTime": {
     "end_time": "2021-02-23T10:29:56.841787Z",
     "start_time": "2021-02-23T10:29:56.824053Z"
    }
   },
   "outputs": [
    {
     "name": "stdout",
     "output_type": "stream",
     "text": [
      "$1.5 million\n",
      "$1.2 million\n"
     ]
    }
   ],
   "source": [
    "doc = nlp('The firm earned $1.5 million in 2017, in comparison with $1.2 million in 2016.')\n",
    "phrase = ''\n",
    "for token in doc:\n",
    "    if token.tag_ == '$':\n",
    "        phrase = token.text\n",
    "        i = token.i+1\n",
    "        while doc[i].tag_ == 'CD':\n",
    "            phrase += doc[i].text + ' '\n",
    "            i += 1\n",
    "        phrase = phrase[:-1]\n",
    "        print(phrase)"
   ]
  },
  {
   "cell_type": "code",
   "execution_count": 26,
   "id": "signed-shoot",
   "metadata": {
    "ExecuteTime": {
     "end_time": "2021-02-23T10:33:57.651800Z",
     "start_time": "2021-02-23T10:33:57.635066Z"
    }
   },
   "outputs": [
    {
     "data": {
      "text/html": [
       "<span class=\"tex2jax_ignore\"><!DOCTYPE html>\n",
       "<html lang=\"en\">\n",
       "    <head>\n",
       "        <title>displaCy</title>\n",
       "    </head>\n",
       "\n",
       "    <body style=\"font-size: 16px; font-family: -apple-system, BlinkMacSystemFont, 'Segoe UI', Helvetica, Arial, sans-serif, 'Apple Color Emoji', 'Segoe UI Emoji', 'Segoe UI Symbol'; padding: 4rem 2rem; direction: ltr\">\n",
       "<figure style=\"margin-bottom: 6rem\">\n",
       "<div class=\"entities\" style=\"line-height: 2.5; direction: ltr\">I want to but an \n",
       "<mark class=\"entity\" style=\"background: #7aecec; padding: 0.45em 0.6em; margin: 0 0.25em; line-height: 1; border-radius: 0.35em;\">\n",
       "    Apple\n",
       "    <span style=\"font-size: 0.8em; font-weight: bold; line-height: 1; border-radius: 0.35em; vertical-align: middle; margin-left: 0.5rem\">ORG</span>\n",
       "</mark>\n",
       " computer.</div>\n",
       "</figure>\n",
       "</body>\n",
       "</html></span>"
      ],
      "text/plain": [
       "<IPython.core.display.HTML object>"
      ]
     },
     "metadata": {},
     "output_type": "display_data"
    },
    {
     "data": {
      "text/plain": [
       "<IPython.core.display.HTML object>"
      ]
     },
     "metadata": {},
     "output_type": "display_data"
    }
   ],
   "source": [
    "doc = nlp('I want to but an Apple computer.')\n",
    "from IPython.core.display import display, HTML\n",
    "\n",
    "from spacy import displacy\n",
    "html = displacy.render(doc,style='ent',page=True)\n",
    "\n",
    "display(HTML(html))"
   ]
  },
  {
   "cell_type": "code",
   "execution_count": 24,
   "id": "removed-agent",
   "metadata": {
    "ExecuteTime": {
     "end_time": "2021-02-23T10:33:21.852209Z",
     "start_time": "2021-02-23T10:33:21.847769Z"
    }
   },
   "outputs": [
    {
     "data": {
      "text/plain": [
       "'Countries, cities, states'"
      ]
     },
     "execution_count": 24,
     "metadata": {},
     "output_type": "execute_result"
    }
   ],
   "source": [
    "spacy.explain('GPE')"
   ]
  },
  {
   "cell_type": "code",
   "execution_count": 27,
   "id": "independent-analyst",
   "metadata": {
    "ExecuteTime": {
     "end_time": "2021-02-23T10:34:11.467108Z",
     "start_time": "2021-02-23T10:34:11.464111Z"
    }
   },
   "outputs": [
    {
     "data": {
      "text/plain": [
       "'Companies, agencies, institutions, etc.'"
      ]
     },
     "execution_count": 27,
     "metadata": {},
     "output_type": "execute_result"
    }
   ],
   "source": [
    "spacy.explain('ORG')"
   ]
  },
  {
   "cell_type": "code",
   "execution_count": 28,
   "id": "detailed-provider",
   "metadata": {
    "ExecuteTime": {
     "end_time": "2021-02-23T10:36:11.081782Z",
     "start_time": "2021-02-23T10:36:11.063228Z"
    }
   },
   "outputs": [
    {
     "data": {
      "text/plain": [
       "0.5831844168885263"
      ]
     },
     "execution_count": 28,
     "metadata": {},
     "output_type": "execute_result"
    }
   ],
   "source": [
    "# Word Similarity\n",
    "nlp('apple').similarity(nlp('banana'))"
   ]
  },
  {
   "cell_type": "code",
   "execution_count": 29,
   "id": "dried-superior",
   "metadata": {
    "ExecuteTime": {
     "end_time": "2021-02-23T10:36:38.340346Z",
     "start_time": "2021-02-23T10:36:38.317107Z"
    }
   },
   "outputs": [
    {
     "data": {
      "text/plain": [
       "0.7252610345406867"
      ]
     },
     "execution_count": 29,
     "metadata": {},
     "output_type": "execute_result"
    }
   ],
   "source": [
    "nlp('king').similarity(nlp('queen'))"
   ]
  },
  {
   "cell_type": "code",
   "execution_count": 30,
   "id": "delayed-greensboro",
   "metadata": {
    "ExecuteTime": {
     "end_time": "2021-02-23T10:38:17.559651Z",
     "start_time": "2021-02-23T10:38:17.544404Z"
    }
   },
   "outputs": [
    {
     "data": {
      "text/plain": [
       "0.8776482403927138"
      ]
     },
     "execution_count": 30,
     "metadata": {},
     "output_type": "execute_result"
    }
   ],
   "source": [
    "doc = nlp('I want a green apple.')\n",
    "doc.similarity(doc[2:5])"
   ]
  },
  {
   "cell_type": "code",
   "execution_count": 31,
   "id": "thorough-patient",
   "metadata": {
    "ExecuteTime": {
     "end_time": "2021-02-23T10:38:42.155458Z",
     "start_time": "2021-02-23T10:38:42.152186Z"
    }
   },
   "outputs": [
    {
     "data": {
      "text/plain": [
       "1.0"
      ]
     },
     "execution_count": 31,
     "metadata": {},
     "output_type": "execute_result"
    }
   ],
   "source": [
    "doc.similarity(doc)"
   ]
  }
 ],
 "metadata": {
  "kernelspec": {
   "display_name": "Python 3",
   "language": "python",
   "name": "python3"
  },
  "language_info": {
   "codemirror_mode": {
    "name": "ipython",
    "version": 3
   },
   "file_extension": ".py",
   "mimetype": "text/x-python",
   "name": "python",
   "nbconvert_exporter": "python",
   "pygments_lexer": "ipython3",
   "version": "3.8.3"
  }
 },
 "nbformat": 4,
 "nbformat_minor": 5
}
